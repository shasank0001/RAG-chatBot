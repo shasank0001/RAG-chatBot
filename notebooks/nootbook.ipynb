{
 "cells": [
  {
   "cell_type": "code",
   "execution_count": 1,
   "metadata": {},
   "outputs": [],
   "source": [
    "from langchain_ollama import OllamaLLM\n",
    "from langchain_core.output_parsers import StrOutputParser"
   ]
  },
  {
   "cell_type": "code",
   "execution_count": 8,
   "metadata": {},
   "outputs": [
    {
     "name": "stdout",
     "output_type": "stream",
     "text": [
      "Hello! How can I help you today?"
     ]
    }
   ],
   "source": [
    "def chat_with_code(model_name, question):\n",
    "    ollama = OllamaLLM(\n",
    "        model=model_name,\n",
    "        streaming=True\n",
    "    )\n",
    "\n",
    "    output_parser = StrOutputParser()\n",
    "    chat = (ollama | output_parser)\n",
    "    response = chat.stream(question)\n",
    "\n",
    "    return response\n",
    "\n",
    "# Stream the response\n",
    "response_generator = chat_with_code(\"llama3.2:1b\", \"hi there\")\n",
    "for chunk in response_generator:\n",
    "    print(chunk, end=\"\", flush=True)  # Print each chunk as it arrives"
   ]
  },
  {
   "cell_type": "code",
   "execution_count": null,
   "metadata": {},
   "outputs": [
    {
     "ename": "AttributeError",
     "evalue": "'str' object has no attribute 'markdown'",
     "output_type": "error",
     "traceback": [
      "\u001b[0;31m---------------------------------------------------------------------------\u001b[0m",
      "\u001b[0;31mAttributeError\u001b[0m                            Traceback (most recent call last)",
      "Cell \u001b[0;32mIn[7], line 6\u001b[0m\n\u001b[1;32m      4\u001b[0m \u001b[38;5;28;01mfor\u001b[39;00m chunk \u001b[38;5;129;01min\u001b[39;00m response_generator:\n\u001b[1;32m      5\u001b[0m     full_response \u001b[38;5;241m+\u001b[39m\u001b[38;5;241m=\u001b[39m chunk\n\u001b[0;32m----> 6\u001b[0m     \u001b[43mmessage_placeholder\u001b[49m\u001b[38;5;241;43m.\u001b[39;49m\u001b[43mmarkdown\u001b[49m(full_response \u001b[38;5;241m+\u001b[39m \u001b[38;5;124m\"\u001b[39m\u001b[38;5;124m▌\u001b[39m\u001b[38;5;124m\"\u001b[39m)\n",
      "\u001b[0;31mAttributeError\u001b[0m: 'str' object has no attribute 'markdown'"
     ]
    }
   ],
   "source": []
  },
  {
   "cell_type": "code",
   "execution_count": null,
   "metadata": {},
   "outputs": [
    {
     "name": "stdout",
     "output_type": "stream",
     "text": [
      "<generator object RunnableSequence.stream at 0x710591bb6980>\n"
     ]
    }
   ],
   "source": [
    "message_placeholder = \"\"\n",
    "for chunk in response_generator:\n",
    "    full_response += chunk\n",
    "    message_placeholder.markdown(full_response + \"▌\")\n",
    "    "
   ]
  },
  {
   "cell_type": "code",
   "execution_count": null,
   "metadata": {},
   "outputs": [],
   "source": []
  }
 ],
 "metadata": {
  "kernelspec": {
   "display_name": "clgpro",
   "language": "python",
   "name": "python3"
  },
  "language_info": {
   "codemirror_mode": {
    "name": "ipython",
    "version": 3
   },
   "file_extension": ".py",
   "mimetype": "text/x-python",
   "name": "python",
   "nbconvert_exporter": "python",
   "pygments_lexer": "ipython3",
   "version": "3.13.1"
  }
 },
 "nbformat": 4,
 "nbformat_minor": 2
}
