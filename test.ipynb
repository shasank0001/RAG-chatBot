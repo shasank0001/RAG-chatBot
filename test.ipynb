{
 "cells": [
  {
   "cell_type": "code",
   "execution_count": 10,
   "id": "bdda30a4",
   "metadata": {},
   "outputs": [],
   "source": [
    "from dotenv import load_dotenv\n",
    "from langchain_google_genai import ChatGoogleGenerativeAI\n",
    "import os\n",
    "import google.generativeai as genai\n",
    "\n",
    "\n",
    "load_dotenv()\n",
    "os.getenv(\"GOOGLE_API_KEY\")\n",
    "genai.configure(api_key=os.getenv(\"GOOGLE_API_KEY\"))\n"
   ]
  },
  {
   "cell_type": "code",
   "execution_count": 15,
   "id": "0a9edfe2",
   "metadata": {},
   "outputs": [
    {
     "data": {
      "text/plain": [
       "\"Python is a versatile, high-level programming language known for its readability and clear syntax. It supports multiple programming paradigms, including object-oriented, imperative, and functional styles. Python boasts a large standard library and a vibrant community, making it suitable for web development, data science, scripting, and automation. Its dynamic typing and automatic memory management simplify development. Python's cross-platform compatibility allows it to run on various operating systems.\""
      ]
     },
     "execution_count": 15,
     "metadata": {},
     "output_type": "execute_result"
    }
   ],
   "source": [
    "\n",
    "\n",
    "llm = ChatGoogleGenerativeAI(\n",
    "    model=\"gemini-2.0-flash-001\",\n",
    "    temperature=0,\n",
    "    streaming =True,\n",
    ")\n",
    "\n",
    "messages = \"explain abut python in 5 lines\"\n",
    "ai_msg = llm.invoke(messages)\n",
    "ai_msg.content\n"
   ]
  },
  {
   "cell_type": "code",
   "execution_count": null,
   "id": "d56b982a",
   "metadata": {},
   "outputs": [
    {
     "data": {
      "text/plain": [
       "AIMessage(content=\"Python is a versatile, high-level programming language known for its readability and clear syntax. It supports multiple programming paradigms, including object-oriented, imperative, and functional styles. Python boasts a large standard library and a vibrant community, making it suitable for web development, data science, scripting, and automation. Its dynamic typing and automatic memory management simplify development. Python's cross-platform compatibility allows it to run on various operating systems.\", additional_kwargs={}, response_metadata={'prompt_feedback': {'block_reason': 0, 'safety_ratings': []}, 'finish_reason': 'STOP', 'model_name': 'gemini-2.0-flash-001', 'safety_ratings': []}, id='run-2ab85c91-2ca5-41de-a297-8401e03c36bc-0', usage_metadata={'input_tokens': 7, 'output_tokens': 88, 'total_tokens': 95, 'input_token_details': {'cache_read': 0}})"
      ]
     },
     "execution_count": 12,
     "metadata": {},
     "output_type": "execute_result"
    }
   ],
   "source": [
    "\n",
    "messages = \"explain abut python in 5 lines\"\n",
    "ai_msg = llm.invoke(messages)\n"
   ]
  },
  {
   "cell_type": "code",
   "execution_count": 14,
   "id": "bea862f5",
   "metadata": {},
   "outputs": [
    {
     "data": {
      "text/plain": [
       "\"Python is a versatile, high-level programming language known for its readability and clear syntax. It supports multiple programming paradigms, including object-oriented, imperative, and functional styles. Python boasts a large standard library and a vibrant community, making it suitable for web development, data science, scripting, and automation. Its dynamic typing and automatic memory management simplify development. Python's cross-platform compatibility allows it to run on various operating systems.\""
      ]
     },
     "execution_count": 14,
     "metadata": {},
     "output_type": "execute_result"
    }
   ],
   "source": [
    "ai_msg.content"
   ]
  },
  {
   "cell_type": "code",
   "execution_count": null,
   "id": "e677d7ce",
   "metadata": {},
   "outputs": [],
   "source": []
  }
 ],
 "metadata": {
  "kernelspec": {
   "display_name": "clgpro",
   "language": "python",
   "name": "python3"
  },
  "language_info": {
   "codemirror_mode": {
    "name": "ipython",
    "version": 3
   },
   "file_extension": ".py",
   "mimetype": "text/x-python",
   "name": "python",
   "nbconvert_exporter": "python",
   "pygments_lexer": "ipython3",
   "version": "3.13.1"
  }
 },
 "nbformat": 4,
 "nbformat_minor": 5
}
